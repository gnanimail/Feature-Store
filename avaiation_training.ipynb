{
 "cells": [
  {
   "cell_type": "code",
   "execution_count": 69,
   "id": "84eb64dd-c805-4c89-aa02-661795f79b2a",
   "metadata": {},
   "outputs": [],
   "source": [
    "from math import sqrt\n",
    "import numpy as np\n",
    "from joblib import dump\n",
    "from feast import FeatureStore\n",
    "from sklearn.model_selection import train_test_split\n",
    "from sklearn.ensemble import RandomForestRegressor\n",
    "from sklearn.model_selection import RandomizedSearchCV"
   ]
  },
  {
   "cell_type": "code",
   "execution_count": 70,
   "id": "27a8df05",
   "metadata": {},
   "outputs": [],
   "source": [
    "# Getting our FeatureStore\n",
    "feature_store = FeatureStore(repo_path=\"Aviation/\")"
   ]
  },
  {
   "cell_type": "code",
   "execution_count": 71,
   "id": "a1755136",
   "metadata": {
    "scrolled": true
   },
   "outputs": [
    {
     "name": "stderr",
     "output_type": "stream",
     "text": [
      "C:\\work\\lib\\site-packages\\feast\\feature_store.py:1168: RuntimeWarning: Retrieving datasets is an experimental feature. This API is unstable and it could and most probably will be changed in the future. We do not guarantee that future changes will maintain backward compatibility.\n",
      "  warnings.warn(\n"
     ]
    }
   ],
   "source": [
    "# Retrieving the saved dataset and converting it to a DataFrame\n",
    "training_df = feature_store.get_saved_dataset(name=\"aviation_datastore\").to_df()"
   ]
  },
  {
   "cell_type": "code",
   "execution_count": 72,
   "id": "90426131",
   "metadata": {
    "scrolled": false
   },
   "outputs": [
    {
     "data": {
      "text/html": [
       "<div>\n",
       "<style scoped>\n",
       "    .dataframe tbody tr th:only-of-type {\n",
       "        vertical-align: middle;\n",
       "    }\n",
       "\n",
       "    .dataframe tbody tr th {\n",
       "        vertical-align: top;\n",
       "    }\n",
       "\n",
       "    .dataframe thead th {\n",
       "        text-align: right;\n",
       "    }\n",
       "</style>\n",
       "<table border=\"1\" class=\"dataframe\">\n",
       "  <thead>\n",
       "    <tr style=\"text-align: right;\">\n",
       "      <th></th>\n",
       "      <th>year</th>\n",
       "      <th>Engine_Type</th>\n",
       "      <th>Purpose_of_flight</th>\n",
       "      <th>Number_of_Engines</th>\n",
       "      <th>Total_Minor_Injuries</th>\n",
       "      <th>Total_Fatal_Injuries</th>\n",
       "      <th>Broad_phase_of_flight</th>\n",
       "      <th>Investigation_Type</th>\n",
       "      <th>Weather_Condition</th>\n",
       "      <th>day</th>\n",
       "      <th>Aircraft_damage</th>\n",
       "      <th>event_timestamp</th>\n",
       "      <th>Total_Uninjured</th>\n",
       "      <th>Total_Serious_Injuries</th>\n",
       "      <th>ratio</th>\n",
       "      <th>Aircraft_Category</th>\n",
       "      <th>month</th>\n",
       "      <th>Event_Id</th>\n",
       "    </tr>\n",
       "  </thead>\n",
       "  <tbody>\n",
       "    <tr>\n",
       "      <th>0</th>\n",
       "      <td>1948</td>\n",
       "      <td>6</td>\n",
       "      <td>20</td>\n",
       "      <td>1.000000</td>\n",
       "      <td>0.000000</td>\n",
       "      <td>2.0</td>\n",
       "      <td>2</td>\n",
       "      <td>0</td>\n",
       "      <td>1</td>\n",
       "      <td>24</td>\n",
       "      <td>0</td>\n",
       "      <td>1948-10-24 00:00:00+00:00</td>\n",
       "      <td>0.000000</td>\n",
       "      <td>0.000000</td>\n",
       "      <td>1.000000</td>\n",
       "      <td>10</td>\n",
       "      <td>10</td>\n",
       "      <td>20001218X45444</td>\n",
       "    </tr>\n",
       "    <tr>\n",
       "      <th>1</th>\n",
       "      <td>1962</td>\n",
       "      <td>6</td>\n",
       "      <td>20</td>\n",
       "      <td>1.000000</td>\n",
       "      <td>0.000000</td>\n",
       "      <td>4.0</td>\n",
       "      <td>12</td>\n",
       "      <td>0</td>\n",
       "      <td>1</td>\n",
       "      <td>19</td>\n",
       "      <td>0</td>\n",
       "      <td>1962-07-19 00:00:00+00:00</td>\n",
       "      <td>0.000000</td>\n",
       "      <td>0.000000</td>\n",
       "      <td>1.000000</td>\n",
       "      <td>10</td>\n",
       "      <td>7</td>\n",
       "      <td>20001218X45447</td>\n",
       "    </tr>\n",
       "    <tr>\n",
       "      <th>2</th>\n",
       "      <td>1974</td>\n",
       "      <td>6</td>\n",
       "      <td>20</td>\n",
       "      <td>1.000000</td>\n",
       "      <td>0.360814</td>\n",
       "      <td>3.0</td>\n",
       "      <td>2</td>\n",
       "      <td>0</td>\n",
       "      <td>0</td>\n",
       "      <td>30</td>\n",
       "      <td>0</td>\n",
       "      <td>1974-08-30 00:00:00+00:00</td>\n",
       "      <td>5.311847</td>\n",
       "      <td>0.280921</td>\n",
       "      <td>0.335061</td>\n",
       "      <td>10</td>\n",
       "      <td>8</td>\n",
       "      <td>20061025X01555</td>\n",
       "    </tr>\n",
       "    <tr>\n",
       "      <th>3</th>\n",
       "      <td>1977</td>\n",
       "      <td>6</td>\n",
       "      <td>20</td>\n",
       "      <td>1.000000</td>\n",
       "      <td>0.000000</td>\n",
       "      <td>2.0</td>\n",
       "      <td>2</td>\n",
       "      <td>0</td>\n",
       "      <td>0</td>\n",
       "      <td>19</td>\n",
       "      <td>0</td>\n",
       "      <td>1977-06-19 00:00:00+00:00</td>\n",
       "      <td>0.000000</td>\n",
       "      <td>0.000000</td>\n",
       "      <td>1.000000</td>\n",
       "      <td>10</td>\n",
       "      <td>6</td>\n",
       "      <td>20001218X45448</td>\n",
       "    </tr>\n",
       "    <tr>\n",
       "      <th>4</th>\n",
       "      <td>1979</td>\n",
       "      <td>5</td>\n",
       "      <td>20</td>\n",
       "      <td>1.147131</td>\n",
       "      <td>0.360814</td>\n",
       "      <td>1.0</td>\n",
       "      <td>0</td>\n",
       "      <td>0</td>\n",
       "      <td>3</td>\n",
       "      <td>2</td>\n",
       "      <td>0</td>\n",
       "      <td>1979-08-02 00:00:00+00:00</td>\n",
       "      <td>0.000000</td>\n",
       "      <td>2.000000</td>\n",
       "      <td>0.297547</td>\n",
       "      <td>10</td>\n",
       "      <td>8</td>\n",
       "      <td>20041105X01764</td>\n",
       "    </tr>\n",
       "  </tbody>\n",
       "</table>\n",
       "</div>"
      ],
      "text/plain": [
       "   year  Engine_Type  Purpose_of_flight  Number_of_Engines  \\\n",
       "0  1948            6                 20           1.000000   \n",
       "1  1962            6                 20           1.000000   \n",
       "2  1974            6                 20           1.000000   \n",
       "3  1977            6                 20           1.000000   \n",
       "4  1979            5                 20           1.147131   \n",
       "\n",
       "   Total_Minor_Injuries  Total_Fatal_Injuries  Broad_phase_of_flight  \\\n",
       "0              0.000000                   2.0                      2   \n",
       "1              0.000000                   4.0                     12   \n",
       "2              0.360814                   3.0                      2   \n",
       "3              0.000000                   2.0                      2   \n",
       "4              0.360814                   1.0                      0   \n",
       "\n",
       "   Investigation_Type  Weather_Condition  day  Aircraft_damage  \\\n",
       "0                   0                  1   24                0   \n",
       "1                   0                  1   19                0   \n",
       "2                   0                  0   30                0   \n",
       "3                   0                  0   19                0   \n",
       "4                   0                  3    2                0   \n",
       "\n",
       "            event_timestamp  Total_Uninjured  Total_Serious_Injuries  \\\n",
       "0 1948-10-24 00:00:00+00:00         0.000000                0.000000   \n",
       "1 1962-07-19 00:00:00+00:00         0.000000                0.000000   \n",
       "2 1974-08-30 00:00:00+00:00         5.311847                0.280921   \n",
       "3 1977-06-19 00:00:00+00:00         0.000000                0.000000   \n",
       "4 1979-08-02 00:00:00+00:00         0.000000                2.000000   \n",
       "\n",
       "      ratio  Aircraft_Category  month        Event_Id  \n",
       "0  1.000000                 10     10  20001218X45444  \n",
       "1  1.000000                 10      7  20001218X45447  \n",
       "2  0.335061                 10      8  20061025X01555  \n",
       "3  1.000000                 10      6  20001218X45448  \n",
       "4  0.297547                 10      8  20041105X01764  "
      ]
     },
     "execution_count": 72,
     "metadata": {},
     "output_type": "execute_result"
    }
   ],
   "source": [
    "training_df.head()"
   ]
  },
  {
   "cell_type": "code",
   "execution_count": 73,
   "id": "0e520df3",
   "metadata": {},
   "outputs": [],
   "source": [
    "#Records with ratio==NaN are abnormal, i.e. all injury cases are 0, and too many unknown columns. Hence, they should be deleted.\n",
    "training_df = training_df[training_df['ratio'].notna()]"
   ]
  },
  {
   "cell_type": "code",
   "execution_count": 74,
   "id": "156c6530",
   "metadata": {},
   "outputs": [
    {
     "data": {
      "text/plain": [
       "(72817, 18)"
      ]
     },
     "execution_count": 74,
     "metadata": {},
     "output_type": "execute_result"
    }
   ],
   "source": [
    "training_df.shape"
   ]
  },
  {
   "cell_type": "code",
   "execution_count": 75,
   "id": "07a1ebe3",
   "metadata": {},
   "outputs": [],
   "source": [
    "# independent variables\n",
    "X = training_df[['Investigation_Type','Aircraft_damage','Aircraft_Category','Number_of_Engines','Engine_Type','Purpose_of_flight',\n",
    "                 'Total_Serious_Injuries','Total_Minor_Injuries','Total_Uninjured','Weather_Condition','Broad_phase_of_flight',\n",
    "                 'year','month','day']]"
   ]
  },
  {
   "cell_type": "code",
   "execution_count": 76,
   "id": "66b4027f",
   "metadata": {},
   "outputs": [
    {
     "data": {
      "text/html": [
       "<div>\n",
       "<style scoped>\n",
       "    .dataframe tbody tr th:only-of-type {\n",
       "        vertical-align: middle;\n",
       "    }\n",
       "\n",
       "    .dataframe tbody tr th {\n",
       "        vertical-align: top;\n",
       "    }\n",
       "\n",
       "    .dataframe thead th {\n",
       "        text-align: right;\n",
       "    }\n",
       "</style>\n",
       "<table border=\"1\" class=\"dataframe\">\n",
       "  <thead>\n",
       "    <tr style=\"text-align: right;\">\n",
       "      <th></th>\n",
       "      <th>Investigation_Type</th>\n",
       "      <th>Aircraft_damage</th>\n",
       "      <th>Aircraft_Category</th>\n",
       "      <th>Number_of_Engines</th>\n",
       "      <th>Engine_Type</th>\n",
       "      <th>Purpose_of_flight</th>\n",
       "      <th>Total_Serious_Injuries</th>\n",
       "      <th>Total_Minor_Injuries</th>\n",
       "      <th>Total_Uninjured</th>\n",
       "      <th>Weather_Condition</th>\n",
       "      <th>Broad_phase_of_flight</th>\n",
       "      <th>year</th>\n",
       "      <th>month</th>\n",
       "      <th>day</th>\n",
       "    </tr>\n",
       "  </thead>\n",
       "  <tbody>\n",
       "    <tr>\n",
       "      <th>0</th>\n",
       "      <td>0</td>\n",
       "      <td>0</td>\n",
       "      <td>10</td>\n",
       "      <td>1.000000</td>\n",
       "      <td>6</td>\n",
       "      <td>20</td>\n",
       "      <td>0.000000</td>\n",
       "      <td>0.000000</td>\n",
       "      <td>0.000000</td>\n",
       "      <td>1</td>\n",
       "      <td>2</td>\n",
       "      <td>1948</td>\n",
       "      <td>10</td>\n",
       "      <td>24</td>\n",
       "    </tr>\n",
       "    <tr>\n",
       "      <th>1</th>\n",
       "      <td>0</td>\n",
       "      <td>0</td>\n",
       "      <td>10</td>\n",
       "      <td>1.000000</td>\n",
       "      <td>6</td>\n",
       "      <td>20</td>\n",
       "      <td>0.000000</td>\n",
       "      <td>0.000000</td>\n",
       "      <td>0.000000</td>\n",
       "      <td>1</td>\n",
       "      <td>12</td>\n",
       "      <td>1962</td>\n",
       "      <td>7</td>\n",
       "      <td>19</td>\n",
       "    </tr>\n",
       "    <tr>\n",
       "      <th>2</th>\n",
       "      <td>0</td>\n",
       "      <td>0</td>\n",
       "      <td>10</td>\n",
       "      <td>1.000000</td>\n",
       "      <td>6</td>\n",
       "      <td>20</td>\n",
       "      <td>0.280921</td>\n",
       "      <td>0.360814</td>\n",
       "      <td>5.311847</td>\n",
       "      <td>0</td>\n",
       "      <td>2</td>\n",
       "      <td>1974</td>\n",
       "      <td>8</td>\n",
       "      <td>30</td>\n",
       "    </tr>\n",
       "    <tr>\n",
       "      <th>3</th>\n",
       "      <td>0</td>\n",
       "      <td>0</td>\n",
       "      <td>10</td>\n",
       "      <td>1.000000</td>\n",
       "      <td>6</td>\n",
       "      <td>20</td>\n",
       "      <td>0.000000</td>\n",
       "      <td>0.000000</td>\n",
       "      <td>0.000000</td>\n",
       "      <td>0</td>\n",
       "      <td>2</td>\n",
       "      <td>1977</td>\n",
       "      <td>6</td>\n",
       "      <td>19</td>\n",
       "    </tr>\n",
       "    <tr>\n",
       "      <th>4</th>\n",
       "      <td>0</td>\n",
       "      <td>0</td>\n",
       "      <td>10</td>\n",
       "      <td>1.147131</td>\n",
       "      <td>5</td>\n",
       "      <td>20</td>\n",
       "      <td>2.000000</td>\n",
       "      <td>0.360814</td>\n",
       "      <td>0.000000</td>\n",
       "      <td>3</td>\n",
       "      <td>0</td>\n",
       "      <td>1979</td>\n",
       "      <td>8</td>\n",
       "      <td>2</td>\n",
       "    </tr>\n",
       "  </tbody>\n",
       "</table>\n",
       "</div>"
      ],
      "text/plain": [
       "   Investigation_Type  Aircraft_damage  Aircraft_Category  Number_of_Engines  \\\n",
       "0                   0                0                 10           1.000000   \n",
       "1                   0                0                 10           1.000000   \n",
       "2                   0                0                 10           1.000000   \n",
       "3                   0                0                 10           1.000000   \n",
       "4                   0                0                 10           1.147131   \n",
       "\n",
       "   Engine_Type  Purpose_of_flight  Total_Serious_Injuries  \\\n",
       "0            6                 20                0.000000   \n",
       "1            6                 20                0.000000   \n",
       "2            6                 20                0.280921   \n",
       "3            6                 20                0.000000   \n",
       "4            5                 20                2.000000   \n",
       "\n",
       "   Total_Minor_Injuries  Total_Uninjured  Weather_Condition  \\\n",
       "0              0.000000         0.000000                  1   \n",
       "1              0.000000         0.000000                  1   \n",
       "2              0.360814         5.311847                  0   \n",
       "3              0.000000         0.000000                  0   \n",
       "4              0.360814         0.000000                  3   \n",
       "\n",
       "   Broad_phase_of_flight  year  month  day  \n",
       "0                      2  1948     10   24  \n",
       "1                     12  1962      7   19  \n",
       "2                      2  1974      8   30  \n",
       "3                      2  1977      6   19  \n",
       "4                      0  1979      8    2  "
      ]
     },
     "execution_count": 76,
     "metadata": {},
     "output_type": "execute_result"
    }
   ],
   "source": [
    "X.head()"
   ]
  },
  {
   "cell_type": "code",
   "execution_count": 77,
   "id": "65c888ea",
   "metadata": {},
   "outputs": [],
   "source": [
    "# dependent variable\n",
    "y = training_df['ratio']"
   ]
  },
  {
   "cell_type": "code",
   "execution_count": 78,
   "id": "16f68a7e",
   "metadata": {},
   "outputs": [
    {
     "data": {
      "text/plain": [
       "0    1.000000\n",
       "1    1.000000\n",
       "2    0.335061\n",
       "3    1.000000\n",
       "4    0.297547\n",
       "Name: ratio, dtype: float64"
      ]
     },
     "execution_count": 78,
     "metadata": {},
     "output_type": "execute_result"
    }
   ],
   "source": [
    "y.head()"
   ]
  },
  {
   "cell_type": "code",
   "execution_count": 79,
   "id": "3c6e4000",
   "metadata": {
    "scrolled": true
   },
   "outputs": [
    {
     "data": {
      "text/plain": [
       "False"
      ]
     },
     "execution_count": 79,
     "metadata": {},
     "output_type": "execute_result"
    }
   ],
   "source": [
    "X.isnull().values.any()"
   ]
  },
  {
   "cell_type": "code",
   "execution_count": 80,
   "id": "cade4767",
   "metadata": {},
   "outputs": [
    {
     "data": {
      "text/plain": [
       "(72817, 14)"
      ]
     },
     "execution_count": 80,
     "metadata": {},
     "output_type": "execute_result"
    }
   ],
   "source": [
    "X.shape"
   ]
  },
  {
   "cell_type": "code",
   "execution_count": 81,
   "id": "44ebd9a9",
   "metadata": {},
   "outputs": [
    {
     "data": {
      "text/plain": [
       "72817"
      ]
     },
     "execution_count": 81,
     "metadata": {},
     "output_type": "execute_result"
    }
   ],
   "source": [
    "len(y)"
   ]
  },
  {
   "cell_type": "code",
   "execution_count": 82,
   "id": "f5aea7f5",
   "metadata": {},
   "outputs": [
    {
     "data": {
      "text/plain": [
       "0"
      ]
     },
     "execution_count": 82,
     "metadata": {},
     "output_type": "execute_result"
    }
   ],
   "source": [
    "y.isnull().sum()"
   ]
  },
  {
   "cell_type": "code",
   "execution_count": 83,
   "id": "143bdd6e",
   "metadata": {},
   "outputs": [],
   "source": [
    "X_train, X_test, y_train, y_test = train_test_split(X,y,test_size=0.25,shuffle=True)"
   ]
  },
  {
   "cell_type": "code",
   "execution_count": 84,
   "id": "236693be",
   "metadata": {},
   "outputs": [
    {
     "data": {
      "text/plain": [
       "((54612, 14), (18205, 14), (54612,), (18205,))"
      ]
     },
     "execution_count": 84,
     "metadata": {},
     "output_type": "execute_result"
    }
   ],
   "source": [
    "X_train.shape, X_test.shape, y_train.shape, y_test.shape"
   ]
  },
  {
   "cell_type": "code",
   "execution_count": 85,
   "id": "0dc9c9ea",
   "metadata": {
    "scrolled": false
   },
   "outputs": [
    {
     "name": "stdout",
     "output_type": "stream",
     "text": [
      "Fitting 3 folds for each of 10 candidates, totalling 30 fits\n"
     ]
    },
    {
     "data": {
      "text/plain": [
       "RandomizedSearchCV(cv=3, estimator=RandomForestRegressor(), n_jobs=-1,\n",
       "                   param_distributions={'max_depth': [5, 10, 15, 20],\n",
       "                                        'max_features': ['auto', 'sqrt',\n",
       "                                                         'log2'],\n",
       "                                        'min_samples_leaf': [2, 3, 4],\n",
       "                                        'min_samples_split': [2, 5, 7],\n",
       "                                        'n_estimators': [100, 500, 1000, 1500]},\n",
       "                   verbose=2)"
      ]
     },
     "execution_count": 85,
     "metadata": {},
     "output_type": "execute_result"
    }
   ],
   "source": [
    "rf = RandomForestRegressor()\n",
    "\n",
    "# random forest hyperparameters\n",
    "param_grid = {\n",
    "            'min_samples_split': [2, 5, 7],\n",
    "            'max_depth': [5, 10, 15, 20],\n",
    "            'max_features': ['auto', 'sqrt', 'log2'],\n",
    "            'min_samples_leaf': [2, 3, 4],\n",
    "            'n_estimators': [100, 500, 1000, 1500]\n",
    "        }\n",
    "\n",
    "# train random forest using random search cross validation\n",
    "random_forest = RandomizedSearchCV(estimator=rf, param_distributions=param_grid, cv=3, verbose=2, n_jobs=-1)\n",
    "random_forest.fit(X_train, y_train)"
   ]
  },
  {
   "cell_type": "code",
   "execution_count": 87,
   "id": "e21a8c4b",
   "metadata": {},
   "outputs": [],
   "source": [
    "rf_hp = random_forest.best_params_"
   ]
  },
  {
   "cell_type": "code",
   "execution_count": 88,
   "id": "14f020c2",
   "metadata": {},
   "outputs": [
    {
     "data": {
      "text/plain": [
       "RandomForestRegressor(max_depth=10, min_samples_leaf=4, min_samples_split=7,\n",
       "                      n_estimators=500)"
      ]
     },
     "execution_count": 88,
     "metadata": {},
     "output_type": "execute_result"
    }
   ],
   "source": [
    "random_forest_ = RandomForestRegressor(n_estimators=rf_hp.get('n_estimators'), bootstrap=True,\n",
    "                                       max_features=rf_hp.get('max_features'), min_samples_split=rf_hp.get('min_samples_split'),\n",
    "                                       min_samples_leaf=rf_hp.get('min_samples_leaf'), max_depth=rf_hp.get('max_depth'))\n",
    "\n",
    "random_forest_.fit(X_train, y_train)"
   ]
  },
  {
   "cell_type": "code",
   "execution_count": 89,
   "id": "97da0441",
   "metadata": {},
   "outputs": [],
   "source": [
    "def evaluate(predicted,actual):\n",
    "    size = actual.size\n",
    "    mse = ((predicted - actual) ** 2).sum() / size\n",
    "    print('MSE =', mse)\n",
    "    rmse = sqrt(mse)\n",
    "    print('RMSE =', rmse)\n",
    "    mae = abs(predicted - actual).sum() / size\n",
    "    print('MAE =', mae)\n",
    "    var = ((actual - np.mean(actual)) ** 2).sum() / size\n",
    "    R2 = 1 - mse / var\n",
    "    print('R^2 =', R2)"
   ]
  },
  {
   "cell_type": "code",
   "execution_count": 90,
   "id": "6c8fce39",
   "metadata": {},
   "outputs": [
    {
     "name": "stdout",
     "output_type": "stream",
     "text": [
      "MSE = 0.005606335039955353\n",
      "RMSE = 0.07487546353749908\n",
      "MAE = 0.023365121221609293\n",
      "R^2 = 0.9589674563243913\n"
     ]
    }
   ],
   "source": [
    "evaluate(random_forest.predict(X_train), y_train)"
   ]
  },
  {
   "cell_type": "code",
   "execution_count": 91,
   "id": "44cdc133",
   "metadata": {},
   "outputs": [
    {
     "name": "stdout",
     "output_type": "stream",
     "text": [
      "MSE = 0.007127832770205052\n",
      "RMSE = 0.08442649329567735\n",
      "MAE = 0.02658460144845935\n",
      "R^2 = 0.9466281328289996\n"
     ]
    }
   ],
   "source": [
    "evaluate(random_forest.predict(X_test), y_test)"
   ]
  },
  {
   "cell_type": "code",
   "execution_count": null,
   "id": "7c2e3be8",
   "metadata": {},
   "outputs": [],
   "source": []
  },
  {
   "cell_type": "code",
   "execution_count": 92,
   "id": "0ca5e868",
   "metadata": {},
   "outputs": [],
   "source": [
    "# Importing dependencies\n",
    "from feast import FeatureStore\n",
    "import pandas as pd\n",
    "from joblib import load"
   ]
  },
  {
   "cell_type": "code",
   "execution_count": 93,
   "id": "6ff3978b",
   "metadata": {},
   "outputs": [],
   "source": [
    "# Getting our FeatureStore\n",
    "store = FeatureStore(repo_path=\"C:/Projects/ML_Blocks/test_feast_feature_store_1/breast_cancer\")"
   ]
  },
  {
   "cell_type": "code",
   "execution_count": 94,
   "id": "db06e646",
   "metadata": {},
   "outputs": [],
   "source": [
    "# Defining our features names\n",
    "feast_features = [\n",
    "        \"df1_feature_view:mean radius\",\n",
    "        \"df1_feature_view:mean texture\",\n",
    "        \"df1_feature_view:mean perimeter\",\n",
    "        \"df1_feature_view:mean area\",\n",
    "        \"df1_feature_view:mean smoothness\",\n",
    "        \"df2_feature_view:mean compactness\",\n",
    "        \"df2_feature_view:mean concavity\",\n",
    "        \"df2_feature_view:mean concave points\",\n",
    "        \"df2_feature_view:mean symmetry\",\n",
    "        \"df2_feature_view:mean fractal dimension\",\n",
    "        \"df3_feature_view:radius error\",\n",
    "        \"df3_feature_view:texture error\",\n",
    "        \"df3_feature_view:perimeter error\",\n",
    "        \"df3_feature_view:area error\",\n",
    "        \"df3_feature_view:smoothness error\",\n",
    "        \"df3_feature_view:compactness error\",\n",
    "        \"df3_feature_view:concavity error\",\n",
    "        \"df4_feature_view:concave points error\",\n",
    "        \"df4_feature_view:symmetry error\",\n",
    "        \"df4_feature_view:fractal dimension error\",\n",
    "        \"df4_feature_view:worst radius\",\n",
    "        \"df4_feature_view:worst texture\",\n",
    "        \"df4_feature_view:worst perimeter\",\n",
    "        \"df4_feature_view:worst area\",\n",
    "        \"df4_feature_view:worst smoothness\",\n",
    "        \"df4_feature_view:worst compactness\",\n",
    "        \"df4_feature_view:worst concavity\",\n",
    "        \"df4_feature_view:worst concave points\",\n",
    "        \"df4_feature_view:worst symmetry\",\n",
    "        \"df4_feature_view:worst fractal dimension\"\n",
    "    ]"
   ]
  },
  {
   "cell_type": "code",
   "execution_count": 95,
   "id": "09705fe5",
   "metadata": {},
   "outputs": [],
   "source": [
    "# Getting the latest features\n",
    "features = store.get_online_features(\n",
    "    features=feast_features,    \n",
    "    entity_rows=[{\"patient_id\": 568}\n",
    "                             #,{\"patient_id\": 567}\n",
    "                           ]\n",
    ").to_dict()"
   ]
  },
  {
   "cell_type": "code",
   "execution_count": 96,
   "id": "f892af3e",
   "metadata": {},
   "outputs": [
    {
     "data": {
      "text/plain": [
       "{'patient_id': [568],\n",
       " 'mean radius': [7.760000228881836],\n",
       " 'mean smoothness': [0.052629999816417694],\n",
       " 'mean texture': [24.540000915527344],\n",
       " 'mean area': [181.0],\n",
       " 'mean perimeter': [47.91999816894531],\n",
       " 'mean compactness': [0.04362000152468681],\n",
       " 'mean symmetry': [0.15870000422000885],\n",
       " 'mean fractal dimension': [0.05883999913930893],\n",
       " 'mean concave points': [0.0],\n",
       " 'mean concavity': [0.0],\n",
       " 'perimeter error': [2.5480000972747803],\n",
       " 'concavity error': [0.0],\n",
       " 'smoothness error': [0.007189000025391579],\n",
       " 'compactness error': [0.004660000093281269],\n",
       " 'area error': [19.149999618530273],\n",
       " 'texture error': [1.4279999732971191],\n",
       " 'radius error': [0.385699987411499],\n",
       " 'worst area': [268.6000061035156],\n",
       " 'worst texture': [30.3700008392334],\n",
       " 'worst symmetry': [0.2870999872684479],\n",
       " 'worst perimeter': [59.15999984741211],\n",
       " 'worst compactness': [0.06443999707698822],\n",
       " 'worst fractal dimension': [0.0703900009393692],\n",
       " 'worst concave points': [0.0],\n",
       " 'worst concavity': [0.0],\n",
       " 'fractal dimension error': [0.0027830000035464764],\n",
       " 'concave points error': [0.0],\n",
       " 'worst radius': [9.456000328063965],\n",
       " 'worst smoothness': [0.0899600014090538],\n",
       " 'symmetry error': [0.026760000735521317]}"
      ]
     },
     "execution_count": 96,
     "metadata": {},
     "output_type": "execute_result"
    }
   ],
   "source": [
    "features"
   ]
  },
  {
   "cell_type": "code",
   "execution_count": 97,
   "id": "b42cf14c",
   "metadata": {},
   "outputs": [],
   "source": [
    "features_df = pd.DataFrame.from_dict(data=features)"
   ]
  },
  {
   "cell_type": "code",
   "execution_count": 98,
   "id": "a31bdf74",
   "metadata": {},
   "outputs": [
    {
     "data": {
      "text/html": [
       "<div>\n",
       "<style scoped>\n",
       "    .dataframe tbody tr th:only-of-type {\n",
       "        vertical-align: middle;\n",
       "    }\n",
       "\n",
       "    .dataframe tbody tr th {\n",
       "        vertical-align: top;\n",
       "    }\n",
       "\n",
       "    .dataframe thead th {\n",
       "        text-align: right;\n",
       "    }\n",
       "</style>\n",
       "<table border=\"1\" class=\"dataframe\">\n",
       "  <thead>\n",
       "    <tr style=\"text-align: right;\">\n",
       "      <th></th>\n",
       "      <th>patient_id</th>\n",
       "      <th>mean radius</th>\n",
       "      <th>mean smoothness</th>\n",
       "      <th>mean texture</th>\n",
       "      <th>mean area</th>\n",
       "      <th>mean perimeter</th>\n",
       "      <th>mean compactness</th>\n",
       "      <th>mean symmetry</th>\n",
       "      <th>mean fractal dimension</th>\n",
       "      <th>mean concave points</th>\n",
       "      <th>...</th>\n",
       "      <th>worst perimeter</th>\n",
       "      <th>worst compactness</th>\n",
       "      <th>worst fractal dimension</th>\n",
       "      <th>worst concave points</th>\n",
       "      <th>worst concavity</th>\n",
       "      <th>fractal dimension error</th>\n",
       "      <th>concave points error</th>\n",
       "      <th>worst radius</th>\n",
       "      <th>worst smoothness</th>\n",
       "      <th>symmetry error</th>\n",
       "    </tr>\n",
       "  </thead>\n",
       "  <tbody>\n",
       "    <tr>\n",
       "      <th>0</th>\n",
       "      <td>568</td>\n",
       "      <td>7.76</td>\n",
       "      <td>0.05263</td>\n",
       "      <td>24.540001</td>\n",
       "      <td>181.0</td>\n",
       "      <td>47.919998</td>\n",
       "      <td>0.04362</td>\n",
       "      <td>0.1587</td>\n",
       "      <td>0.05884</td>\n",
       "      <td>0.0</td>\n",
       "      <td>...</td>\n",
       "      <td>59.16</td>\n",
       "      <td>0.06444</td>\n",
       "      <td>0.07039</td>\n",
       "      <td>0.0</td>\n",
       "      <td>0.0</td>\n",
       "      <td>0.002783</td>\n",
       "      <td>0.0</td>\n",
       "      <td>9.456</td>\n",
       "      <td>0.08996</td>\n",
       "      <td>0.02676</td>\n",
       "    </tr>\n",
       "  </tbody>\n",
       "</table>\n",
       "<p>1 rows × 31 columns</p>\n",
       "</div>"
      ],
      "text/plain": [
       "   patient_id  mean radius  mean smoothness  mean texture  mean area  \\\n",
       "0         568         7.76          0.05263     24.540001      181.0   \n",
       "\n",
       "   mean perimeter  mean compactness  mean symmetry  mean fractal dimension  \\\n",
       "0       47.919998           0.04362         0.1587                 0.05884   \n",
       "\n",
       "   mean concave points  ...  worst perimeter  worst compactness  \\\n",
       "0                  0.0  ...            59.16            0.06444   \n",
       "\n",
       "   worst fractal dimension  worst concave points  worst concavity  \\\n",
       "0                  0.07039                   0.0              0.0   \n",
       "\n",
       "   fractal dimension error  concave points error  worst radius  \\\n",
       "0                 0.002783                   0.0         9.456   \n",
       "\n",
       "   worst smoothness  symmetry error  \n",
       "0           0.08996         0.02676  \n",
       "\n",
       "[1 rows x 31 columns]"
      ]
     },
     "execution_count": 98,
     "metadata": {},
     "output_type": "execute_result"
    }
   ],
   "source": [
    "features_df"
   ]
  },
  {
   "cell_type": "code",
   "execution_count": 99,
   "id": "2e4ae05b",
   "metadata": {},
   "outputs": [
    {
     "name": "stdout",
     "output_type": "stream",
     "text": [
      "   area error  compactness error  concave points error  concavity error  \\\n",
      "0       19.15            0.00466                   0.0              0.0   \n",
      "\n",
      "   fractal dimension error  mean area  mean compactness  mean concave points  \\\n",
      "0                 0.002783      181.0           0.04362                  0.0   \n",
      "\n",
      "   mean concavity  mean fractal dimension  ...  worst area  worst compactness  \\\n",
      "0             0.0                 0.05884  ...  268.600006            0.06444   \n",
      "\n",
      "   worst concave points  worst concavity  worst fractal dimension  \\\n",
      "0                   0.0              0.0                  0.07039   \n",
      "\n",
      "   worst perimeter  worst radius  worst smoothness  worst symmetry  \\\n",
      "0            59.16         9.456           0.08996          0.2871   \n",
      "\n",
      "   worst texture  \n",
      "0      30.370001  \n",
      "\n",
      "[1 rows x 30 columns]\n"
     ]
    }
   ],
   "source": [
    "# Loading our model and doing inference\n",
    "reg = load(\"C:/Projects/ML_Blocks/test_feast_feature_store_1/model.joblib\")\n",
    "print(features_df[sorted(features_df.drop(\"patient_id\", axis=1))])"
   ]
  },
  {
   "cell_type": "code",
   "execution_count": 100,
   "id": "9342ca0d",
   "metadata": {},
   "outputs": [],
   "source": [
    "predictions = reg.predict(features_df[sorted(features_df.drop(\"patient_id\", axis=1))])"
   ]
  },
  {
   "cell_type": "code",
   "execution_count": 101,
   "id": "a50e3b41",
   "metadata": {
    "scrolled": true
   },
   "outputs": [
    {
     "data": {
      "text/plain": [
       "array([1])"
      ]
     },
     "execution_count": 101,
     "metadata": {},
     "output_type": "execute_result"
    }
   ],
   "source": [
    "predictions"
   ]
  },
  {
   "cell_type": "code",
   "execution_count": null,
   "id": "33074eff",
   "metadata": {},
   "outputs": [],
   "source": []
  },
  {
   "cell_type": "code",
   "execution_count": 10,
   "id": "7dd47a42",
   "metadata": {},
   "outputs": [],
   "source": [
    "from feast import FeatureStore\n",
    "from datetime import datetime, timedelta\n",
    "\n",
    "# Getting our FeatureStore\n",
    "store_m = FeatureStore(repo_path=\"Aviation/\")\n",
    "# Loading the latest features after a previous materialize call or from the beginning of time\n",
    "store_m.materialize_incremental(end_date=datetime.now())"
   ]
  },
  {
   "cell_type": "code",
   "execution_count": 156,
   "id": "b3d074aa",
   "metadata": {},
   "outputs": [],
   "source": [
    "# Getting our FeatureStore\n",
    "fs = FeatureStore(repo_path=\"Aviation/\")"
   ]
  },
  {
   "cell_type": "code",
   "execution_count": 11,
   "id": "bf5733fd",
   "metadata": {},
   "outputs": [],
   "source": [
    "# Defining our features names\n",
    "feast_features=[\"aviation_feature_view:Investigation_Type\",\n",
    "                \"aviation_feature_view:Aircraft_damage\",\n",
    "                \"aviation_feature_view:Aircraft_Category\",\n",
    "                \"aviation_feature_view:Number_of_Engines\",\n",
    "                \"aviation_feature_view:Engine_Type\",\n",
    "                \"aviation_feature_view:Purpose_of_flight\",\n",
    "                \"aviation_feature_view:Total_Fatal_Injuries\",\n",
    "                \"aviation_feature_view:Total_Serious_Injuries\",\n",
    "                \"aviation_feature_view:Total_Minor_Injuries\",\n",
    "                \"aviation_feature_view:Total_Uninjured\",\n",
    "                \"aviation_feature_view:Weather_Condition\",\n",
    "                \"aviation_feature_view:Broad_phase_of_flight\",\n",
    "                \"aviation_feature_view:year\",\n",
    "                \"aviation_feature_view:month\",\n",
    "                \"aviation_feature_view:day\"]"
   ]
  },
  {
   "cell_type": "code",
   "execution_count": 17,
   "id": "ac80ecc4",
   "metadata": {},
   "outputs": [],
   "source": [
    "# Getting the latest features\n",
    "#features_ = fs.get_online_features(\n",
    "features_ = store_m.get_online_features(\n",
    "    features=feast_features,    \n",
    "    entity_rows=[{\"Event_Id\": '20001218X45448'}]\n",
    ").to_dict()"
   ]
  },
  {
   "cell_type": "code",
   "execution_count": 18,
   "id": "756e97ce",
   "metadata": {},
   "outputs": [
    {
     "data": {
      "text/plain": [
       "{'Event_Id': ['20001218X45448'],\n",
       " 'Engine_Type': [None],\n",
       " 'Purpose_of_flight': [None],\n",
       " 'Total_Minor_Injuries': [None],\n",
       " 'Weather_Condition': [None],\n",
       " 'Total_Serious_Injuries': [None],\n",
       " 'Aircraft_Category': [None],\n",
       " 'month': [None],\n",
       " 'Aircraft_damage': [None],\n",
       " 'Broad_phase_of_flight': [None],\n",
       " 'day': [None],\n",
       " 'Investigation_Type': [None],\n",
       " 'Total_Fatal_Injuries': [None],\n",
       " 'Number_of_Engines': [None],\n",
       " 'Total_Uninjured': [None],\n",
       " 'year': [None]}"
      ]
     },
     "execution_count": 18,
     "metadata": {},
     "output_type": "execute_result"
    }
   ],
   "source": [
    "features_"
   ]
  },
  {
   "cell_type": "code",
   "execution_count": 14,
   "id": "57b62f8c",
   "metadata": {},
   "outputs": [],
   "source": [
    "import pandas as pd\n",
    "# Converting the features to a DataFrame\n",
    "features_df = pd.DataFrame.from_dict(data=features_)"
   ]
  },
  {
   "cell_type": "code",
   "execution_count": 15,
   "id": "ee6eeb6d",
   "metadata": {},
   "outputs": [
    {
     "data": {
      "text/html": [
       "<div>\n",
       "<style scoped>\n",
       "    .dataframe tbody tr th:only-of-type {\n",
       "        vertical-align: middle;\n",
       "    }\n",
       "\n",
       "    .dataframe tbody tr th {\n",
       "        vertical-align: top;\n",
       "    }\n",
       "\n",
       "    .dataframe thead th {\n",
       "        text-align: right;\n",
       "    }\n",
       "</style>\n",
       "<table border=\"1\" class=\"dataframe\">\n",
       "  <thead>\n",
       "    <tr style=\"text-align: right;\">\n",
       "      <th></th>\n",
       "      <th>Event_Id</th>\n",
       "      <th>Engine_Type</th>\n",
       "      <th>Purpose_of_flight</th>\n",
       "      <th>Total_Minor_Injuries</th>\n",
       "      <th>Weather_Condition</th>\n",
       "      <th>Total_Serious_Injuries</th>\n",
       "      <th>Aircraft_Category</th>\n",
       "      <th>month</th>\n",
       "      <th>Aircraft_damage</th>\n",
       "      <th>Broad_phase_of_flight</th>\n",
       "      <th>day</th>\n",
       "      <th>Investigation_Type</th>\n",
       "      <th>Total_Fatal_Injuries</th>\n",
       "      <th>Number_of_Engines</th>\n",
       "      <th>Total_Uninjured</th>\n",
       "      <th>year</th>\n",
       "    </tr>\n",
       "  </thead>\n",
       "  <tbody>\n",
       "    <tr>\n",
       "      <th>0</th>\n",
       "      <td>20001218X45448</td>\n",
       "      <td>None</td>\n",
       "      <td>None</td>\n",
       "      <td>None</td>\n",
       "      <td>None</td>\n",
       "      <td>None</td>\n",
       "      <td>None</td>\n",
       "      <td>None</td>\n",
       "      <td>None</td>\n",
       "      <td>None</td>\n",
       "      <td>None</td>\n",
       "      <td>None</td>\n",
       "      <td>None</td>\n",
       "      <td>None</td>\n",
       "      <td>None</td>\n",
       "      <td>None</td>\n",
       "    </tr>\n",
       "  </tbody>\n",
       "</table>\n",
       "</div>"
      ],
      "text/plain": [
       "         Event_Id Engine_Type Purpose_of_flight Total_Minor_Injuries  \\\n",
       "0  20001218X45448        None              None                 None   \n",
       "\n",
       "  Weather_Condition Total_Serious_Injuries Aircraft_Category month  \\\n",
       "0              None                   None              None  None   \n",
       "\n",
       "  Aircraft_damage Broad_phase_of_flight   day Investigation_Type  \\\n",
       "0            None                  None  None               None   \n",
       "\n",
       "  Total_Fatal_Injuries Number_of_Engines Total_Uninjured  year  \n",
       "0                 None              None            None  None  "
      ]
     },
     "execution_count": 15,
     "metadata": {},
     "output_type": "execute_result"
    }
   ],
   "source": [
    "features_df"
   ]
  },
  {
   "cell_type": "code",
   "execution_count": 16,
   "id": "5d0f0631",
   "metadata": {
    "scrolled": true
   },
   "outputs": [
    {
     "ename": "NameError",
     "evalue": "name 'training_df' is not defined",
     "output_type": "error",
     "traceback": [
      "\u001b[1;31m---------------------------------------------------------------------------\u001b[0m",
      "\u001b[1;31mNameError\u001b[0m                                 Traceback (most recent call last)",
      "\u001b[1;32m~\\AppData\\Local\\Temp/ipykernel_25760/2958326535.py\u001b[0m in \u001b[0;36m<module>\u001b[1;34m\u001b[0m\n\u001b[1;32m----> 1\u001b[1;33m \u001b[0mA\u001b[0m \u001b[1;33m=\u001b[0m \u001b[0mtraining_df\u001b[0m\u001b[1;33m[\u001b[0m\u001b[0mtraining_df\u001b[0m\u001b[1;33m[\u001b[0m\u001b[1;34m'Event_Id'\u001b[0m\u001b[1;33m]\u001b[0m\u001b[1;33m==\u001b[0m\u001b[1;34m'20001218X45448'\u001b[0m\u001b[1;33m]\u001b[0m\u001b[1;33m\u001b[0m\u001b[1;33m\u001b[0m\u001b[0m\n\u001b[0m\u001b[0;32m      2\u001b[0m \u001b[0mA\u001b[0m\u001b[1;33m\u001b[0m\u001b[1;33m\u001b[0m\u001b[0m\n",
      "\u001b[1;31mNameError\u001b[0m: name 'training_df' is not defined"
     ]
    }
   ],
   "source": [
    "A = training_df[training_df['Event_Id']=='20001218X45448']\n",
    "A"
   ]
  },
  {
   "cell_type": "code",
   "execution_count": 163,
   "id": "a2dcc908",
   "metadata": {},
   "outputs": [
    {
     "data": {
      "text/plain": [
       "Index(['year', 'Engine_Type', 'Purpose_of_flight', 'Number_of_Engines',\n",
       "       'Total_Minor_Injuries', 'Total_Fatal_Injuries', 'Broad_phase_of_flight',\n",
       "       'Investigation_Type', 'Weather_Condition', 'day', 'Aircraft_damage',\n",
       "       'event_timestamp', 'Total_Uninjured', 'Total_Serious_Injuries', 'ratio',\n",
       "       'Aircraft_Category', 'month', 'Event_Id'],\n",
       "      dtype='object')"
      ]
     },
     "execution_count": 163,
     "metadata": {},
     "output_type": "execute_result"
    }
   ],
   "source": [
    "A.columns"
   ]
  },
  {
   "cell_type": "code",
   "execution_count": 164,
   "id": "e9bb9353",
   "metadata": {},
   "outputs": [
    {
     "data": {
      "text/plain": [
       "Index(['Investigation_Type', 'Aircraft_damage', 'Aircraft_Category',\n",
       "       'Number_of_Engines', 'Engine_Type', 'Purpose_of_flight',\n",
       "       'Total_Serious_Injuries', 'Total_Minor_Injuries', 'Total_Uninjured',\n",
       "       'Weather_Condition', 'Broad_phase_of_flight', 'year', 'month', 'day'],\n",
       "      dtype='object')"
      ]
     },
     "execution_count": 164,
     "metadata": {},
     "output_type": "execute_result"
    }
   ],
   "source": [
    "X.columns"
   ]
  },
  {
   "cell_type": "code",
   "execution_count": 165,
   "id": "e6eee7dc",
   "metadata": {},
   "outputs": [
    {
     "name": "stderr",
     "output_type": "stream",
     "text": [
      "C:\\work\\lib\\site-packages\\sklearn\\base.py:493: FutureWarning: The feature names should match those that were passed during fit. Starting version 1.2, an error will be raised.\n",
      "Feature names must be in the same order as they were in fit.\n",
      "\n",
      "  warnings.warn(message, FutureWarning)\n"
     ]
    }
   ],
   "source": [
    "# Loading our model and doing inference\n",
    "reg = load(\"model.joblib\")\n",
    "predictions = reg.predict(A[sorted(A.drop([\"Event_Id\",\"event_timestamp\",\"ratio\",\"Total_Fatal_Injuries\"], axis=1))])"
   ]
  },
  {
   "cell_type": "code",
   "execution_count": 166,
   "id": "e51563d6",
   "metadata": {},
   "outputs": [
    {
     "data": {
      "text/plain": [
       "array([0.14613594])"
      ]
     },
     "execution_count": 166,
     "metadata": {},
     "output_type": "execute_result"
    }
   ],
   "source": [
    "predictions"
   ]
  },
  {
   "cell_type": "code",
   "execution_count": null,
   "id": "6399d013",
   "metadata": {},
   "outputs": [],
   "source": []
  },
  {
   "cell_type": "code",
   "execution_count": null,
   "id": "936ba2cd",
   "metadata": {},
   "outputs": [],
   "source": []
  }
 ],
 "metadata": {
  "kernelspec": {
   "display_name": "Python 3 (ipykernel)",
   "language": "python",
   "name": "python3"
  },
  "language_info": {
   "codemirror_mode": {
    "name": "ipython",
    "version": 3
   },
   "file_extension": ".py",
   "mimetype": "text/x-python",
   "name": "python",
   "nbconvert_exporter": "python",
   "pygments_lexer": "ipython3",
   "version": "3.9.7"
  }
 },
 "nbformat": 4,
 "nbformat_minor": 5
}
